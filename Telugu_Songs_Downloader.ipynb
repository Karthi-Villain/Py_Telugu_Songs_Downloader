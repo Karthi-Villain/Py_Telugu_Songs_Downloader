{
  "nbformat": 4,
  "nbformat_minor": 0,
  "metadata": {
    "colab": {
      "provenance": []
    },
    "kernelspec": {
      "name": "python3",
      "display_name": "Python 3"
    },
    "language_info": {
      "name": "python"
    }
  },
  "cells": [
    {
      "cell_type": "code",
      "execution_count": null,
      "metadata": {
        "id": "VCU4E7GFbgrw",
        "colab": {
          "base_uri": "https://localhost:8080/",
          "height": 106
        },
        "cellView": "form",
        "outputId": "beedbfa4-f781-458e-d04a-f2e5179b479a"
      },
      "outputs": [
        {
          "output_type": "stream",
          "name": "stdout",
          "text": [
            "Gundellonaa Song Download from Ori Devuda Movie 2022 \n",
            "1. Gundellonaa\n",
            "Enter the Song Number: 1\n",
            "Gundellonaa -Gundellonaa Song Download from Ori Devuda Movie.mp3 Downloaded SuccessFully\n"
          ]
        },
        {
          "output_type": "display_data",
          "data": {
            "text/plain": [
              "<IPython.core.display.Javascript object>"
            ],
            "application/javascript": [
              "\n",
              "    async function download(id, filename, size) {\n",
              "      if (!google.colab.kernel.accessAllowed) {\n",
              "        return;\n",
              "      }\n",
              "      const div = document.createElement('div');\n",
              "      const label = document.createElement('label');\n",
              "      label.textContent = `Downloading \"${filename}\": `;\n",
              "      div.appendChild(label);\n",
              "      const progress = document.createElement('progress');\n",
              "      progress.max = size;\n",
              "      div.appendChild(progress);\n",
              "      document.body.appendChild(div);\n",
              "\n",
              "      const buffers = [];\n",
              "      let downloaded = 0;\n",
              "\n",
              "      const channel = await google.colab.kernel.comms.open(id);\n",
              "      // Send a message to notify the kernel that we're ready.\n",
              "      channel.send({})\n",
              "\n",
              "      for await (const message of channel.messages) {\n",
              "        // Send a message to notify the kernel that we're ready.\n",
              "        channel.send({})\n",
              "        if (message.buffers) {\n",
              "          for (const buffer of message.buffers) {\n",
              "            buffers.push(buffer);\n",
              "            downloaded += buffer.byteLength;\n",
              "            progress.value = downloaded;\n",
              "          }\n",
              "        }\n",
              "      }\n",
              "      const blob = new Blob(buffers, {type: 'application/binary'});\n",
              "      const a = document.createElement('a');\n",
              "      a.href = window.URL.createObjectURL(blob);\n",
              "      a.download = filename;\n",
              "      div.appendChild(a);\n",
              "      a.click();\n",
              "      div.remove();\n",
              "    }\n",
              "  "
            ]
          },
          "metadata": {}
        },
        {
          "output_type": "display_data",
          "data": {
            "text/plain": [
              "<IPython.core.display.Javascript object>"
            ],
            "application/javascript": [
              "download(\"download_6eaf236e-4f29-4e3b-baf2-0ef0df5c6f63\", \"Gundellonaa -Gundellonaa Song Download from Ori Devuda Movie.mp3\", 3247199)"
            ]
          },
          "metadata": {}
        }
      ],
      "source": [
        "\"\"\"A Simple Program to Download Best Quality Telugu Songs From NaaSongs.com\n",
        "Credits: https://github.com/Karthi-Villain/\"\"\"\n",
        "#@title **🎶Telugu Songs Downloader🎶**\n",
        "import requests\n",
        "from bs4 import BeautifulSoup\n",
        "import json\n",
        "from google.colab import files, output\n",
        "from requests.packages.urllib3.exceptions import InsecureRequestWarning\n",
        "requests.packages.urllib3.disable_warnings(InsecureRequestWarning)\n",
        "#Enter the Song Name Below\n",
        "SongName=\"Gundellonaa\"#@param {type:\"string\"}\n",
        "Headers={\"user-agent\":\"Mozilla/5.0 (Windows NT 10.0; Win64; x64) AppleWebKit/537.36 (KHTML, like Gecko) Chrome/107.0.0.0 Safari/537.36\"}\n",
        "#==============[Just Counter]===============\n",
        "res=requests.get('https://bit.ly/SongsScript',headers=Headers)\n",
        "#===========================================\n",
        "NaaSongsUrl=f\"https://www.isongs.info/?label=telugu&q={SongName.strip().replace(' ','+')}\"\n",
        "res=requests.get(NaaSongsUrl,headers=Headers)\n",
        "Sres=BeautifulSoup(res.content,'html.parser')\n",
        "SearchList=Sres.find_all('script')[5].text.strip()\n",
        "Count=SearchList.find('\"hits\":[')+7\n",
        "SearchList=json.loads(SearchList[Count:-2])\n",
        "print('Your Search Results Are Here :')\n",
        "for i in range(0,5):\n",
        "    if 'Songs Download' in SearchList[i]['_source']['title']:\n",
        "        print(f\"{i+1}. {SearchList[i]['_source']['title'][:-12]} (Album)\\n   {SearchList[i]['_source']['description'][SearchList[i]['_source']['description'].find('Starring:'):SearchList[i]['_source']['description'].find('Year:')+10]}\")\n",
        "    else:\n",
        "        print(f\"{i+1}. {SearchList[i]['_source']['title'][:-12]}\\n   {SearchList[i]['_source']['description'][SearchList[i]['_source']['description'].find('Starring:'):SearchList[i]['_source']['description'].find('Year:')+10]}\")\n",
        "i=int(input(\"Enter Your Option: \"))\n",
        "output.clear() \n",
        "DownloadPage=SearchList[i-1]['_source']['location']\n",
        "res=requests.get(DownloadPage,headers=Headers)\n",
        "Sres=BeautifulSoup(res.content,'html.parser')\n",
        "SongNum=1\n",
        "SongDLinks=[]\n",
        "SongNames=[]\n",
        "print(Sres.find('h1',class_=\"p-name\").text)\n",
        "for Song in Sres.find_all('tbody')[-1].find_all('tr'):\n",
        "    print(f\"{SongNum}. {Song.find('td',class_='song-name').b.text}\")\n",
        "    SongNum+=1\n",
        "    SongDLinks.append(Song.td.div.a['href'])\n",
        "    SongNames.append(Song.find('td',class_='song-name').b.text)\n",
        "SongSelected=int(input(\"Enter the Song Number: \"))\n",
        "SongDl=requests.get(SongDLinks[SongSelected-1],headers=Headers,verify=False)\n",
        "SongFName=SongNames[-1]+' -'+Sres.find('h1',class_=\"p-name\").text[:-6]+'.mp3'\n",
        "s = open(SongFName,'wb')\n",
        "s.write(SongDl.content)\n",
        "s.close()\n",
        "#==============[Just Counter]===============\n",
        "res=requests.get('https://bit.ly/SongsDownloaded',headers=Headers)\n",
        "#===========================================\n",
        "print(SongFName+\" Downloaded SuccessFully\")\n",
        "files.download(SongFName)"
      ]
    }
  ]
}